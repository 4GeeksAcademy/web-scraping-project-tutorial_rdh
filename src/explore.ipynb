{
    "cells": [
        {
            "cell_type": "markdown",
            "metadata": {},
            "source": [
                "# Explore here\n",
                "\n",
                "It's recommended to use this notebook for exploration purposes."
            ]
        },
        {
            "cell_type": "code",
            "execution_count": 1,
            "metadata": {},
            "outputs": [],
            "source": [
                "import os\n",
                "from bs4 import BeautifulSoup\n",
                "import requests\n",
                "import time\n",
                "import sqlite3\n",
                "import matplotlib.pyplot as plt\n",
                "import seaborn as sns\n",
                "import pandas as pd\n",
                "import re"
            ]
        },
        {
            "cell_type": "code",
            "execution_count": 2,
            "metadata": {},
            "outputs": [
                {
                    "data": {
                        "text/html": [
                            "<div>\n",
                            "<style scoped>\n",
                            "    .dataframe tbody tr th:only-of-type {\n",
                            "        vertical-align: middle;\n",
                            "    }\n",
                            "\n",
                            "    .dataframe tbody tr th {\n",
                            "        vertical-align: top;\n",
                            "    }\n",
                            "\n",
                            "    .dataframe thead th {\n",
                            "        text-align: right;\n",
                            "    }\n",
                            "</style>\n",
                            "<table border=\"1\" class=\"dataframe\">\n",
                            "  <thead>\n",
                            "    <tr style=\"text-align: right;\">\n",
                            "      <th></th>\n",
                            "      <th>orden</th>\n",
                            "      <th>nombre_peliculas</th>\n",
                            "      <th>recaudacion_mundial</th>\n",
                            "      <th>taquilla_eeuu</th>\n",
                            "      <th>taquilla_out_eeuu</th>\n",
                            "      <th>presupuesto</th>\n",
                            "      <th>distribuidor</th>\n",
                            "      <th>estreno</th>\n",
                            "    </tr>\n",
                            "  </thead>\n",
                            "  <tbody>\n",
                            "    <tr>\n",
                            "      <th>0</th>\n",
                            "      <td>1</td>\n",
                            "      <td>Avatar</td>\n",
                            "      <td>2 923 706 026</td>\n",
                            "      <td>785 221 649 (26,9 %)</td>\n",
                            "      <td>2 138 484 377 (73,1 %)</td>\n",
                            "      <td>246 000 000</td>\n",
                            "      <td>20th Century Fox (Walt Disney Studios Motion P...</td>\n",
                            "      <td>2009</td>\n",
                            "    </tr>\n",
                            "    <tr>\n",
                            "      <th>1</th>\n",
                            "      <td>2</td>\n",
                            "      <td>Avengers: Endgame</td>\n",
                            "      <td>2 799 439 100</td>\n",
                            "      <td>858 373 000 (30,7 %)</td>\n",
                            "      <td>1 941 066 100 (69,3 %)</td>\n",
                            "      <td>400 000 000</td>\n",
                            "      <td>Walt Disney Studios Motion Pictures</td>\n",
                            "      <td>2019</td>\n",
                            "    </tr>\n",
                            "  </tbody>\n",
                            "</table>\n",
                            "</div>"
                        ],
                        "text/plain": [
                            "   orden   nombre_peliculas recaudacion_mundial         taquilla_eeuu  \\\n",
                            "0      1             Avatar       2 923 706 026  785 221 649 (26,9 %)   \n",
                            "1      2  Avengers: Endgame       2 799 439 100  858 373 000 (30,7 %)   \n",
                            "\n",
                            "        taquilla_out_eeuu  presupuesto  \\\n",
                            "0  2 138 484 377 (73,1 %)  246 000 000   \n",
                            "1  1 941 066 100 (69,3 %)  400 000 000   \n",
                            "\n",
                            "                                        distribuidor  estreno  \n",
                            "0  20th Century Fox (Walt Disney Studios Motion P...     2009  \n",
                            "1                Walt Disney Studios Motion Pictures     2019  "
                        ]
                    },
                    "execution_count": 2,
                    "metadata": {},
                    "output_type": "execute_result"
                }
            ],
            "source": [
                "#Realizamos solicitud HTTP de la url y extraemos tablas con Pandas:\n",
                "resource_url = \"https://es.wikipedia.org/wiki/Anexo:Pel%C3%ADculas_con_las_mayores_recaudaciones\"\n",
                "response = requests.get(resource_url)\n",
                "\n",
                "if response.status_code == 200:\n",
                "    soup = BeautifulSoup(response.text, 'html.parser')\n",
                "    tax_table = pd.read_html(resource_url)\n",
                "    df = tax_table[0]\n",
                "    df = df.dropna()\n",
                "    df.columns = ['orden', 'nombre_peliculas', 'recaudacion_mundial', 'taquilla_eeuu', \n",
                "                  'taquilla_out_eeuu', 'presupuesto', 'distribuidor','estreno']\n",
                "df.head(2)"
            ]
        },
        {
            "cell_type": "code",
            "execution_count": 3,
            "metadata": {},
            "outputs": [
                {
                    "data": {
                        "text/html": [
                            "<div>\n",
                            "<style scoped>\n",
                            "    .dataframe tbody tr th:only-of-type {\n",
                            "        vertical-align: middle;\n",
                            "    }\n",
                            "\n",
                            "    .dataframe tbody tr th {\n",
                            "        vertical-align: top;\n",
                            "    }\n",
                            "\n",
                            "    .dataframe thead th {\n",
                            "        text-align: right;\n",
                            "    }\n",
                            "</style>\n",
                            "<table border=\"1\" class=\"dataframe\">\n",
                            "  <thead>\n",
                            "    <tr style=\"text-align: right;\">\n",
                            "      <th></th>\n",
                            "      <th>orden</th>\n",
                            "      <th>nombre_peliculas</th>\n",
                            "      <th>recaudacion_mundial</th>\n",
                            "      <th>taquilla_eeuu</th>\n",
                            "      <th>taquilla_out_eeuu</th>\n",
                            "      <th>presupuesto</th>\n",
                            "      <th>distribuidor</th>\n",
                            "      <th>estreno</th>\n",
                            "      <th>presupuesto_n</th>\n",
                            "      <th>taquilla_eeuu_q</th>\n",
                            "      <th>taquilla_out_eeuu_q</th>\n",
                            "    </tr>\n",
                            "  </thead>\n",
                            "  <tbody>\n",
                            "    <tr>\n",
                            "      <th>0</th>\n",
                            "      <td>1</td>\n",
                            "      <td>Avatar</td>\n",
                            "      <td>2923706026</td>\n",
                            "      <td>785 221 649 (26,9 %)</td>\n",
                            "      <td>2 138 484 377 (73,1 %)</td>\n",
                            "      <td>246 000 000</td>\n",
                            "      <td>20th Century Fox (Walt Disney Studios Motion P...</td>\n",
                            "      <td>2009</td>\n",
                            "      <td>246000000</td>\n",
                            "      <td>785221649</td>\n",
                            "      <td>2138484377</td>\n",
                            "    </tr>\n",
                            "    <tr>\n",
                            "      <th>1</th>\n",
                            "      <td>2</td>\n",
                            "      <td>Avengers: Endgame</td>\n",
                            "      <td>2799439100</td>\n",
                            "      <td>858 373 000 (30,7 %)</td>\n",
                            "      <td>1 941 066 100 (69,3 %)</td>\n",
                            "      <td>400 000 000</td>\n",
                            "      <td>Walt Disney Studios Motion Pictures</td>\n",
                            "      <td>2019</td>\n",
                            "      <td>400000000</td>\n",
                            "      <td>858373000</td>\n",
                            "      <td>1941066100</td>\n",
                            "    </tr>\n",
                            "  </tbody>\n",
                            "</table>\n",
                            "</div>"
                        ],
                        "text/plain": [
                            "   orden   nombre_peliculas  recaudacion_mundial         taquilla_eeuu  \\\n",
                            "0      1             Avatar           2923706026  785 221 649 (26,9 %)   \n",
                            "1      2  Avengers: Endgame           2799439100  858 373 000 (30,7 %)   \n",
                            "\n",
                            "        taquilla_out_eeuu  presupuesto  \\\n",
                            "0  2 138 484 377 (73,1 %)  246 000 000   \n",
                            "1  1 941 066 100 (69,3 %)  400 000 000   \n",
                            "\n",
                            "                                        distribuidor  estreno  presupuesto_n  \\\n",
                            "0  20th Century Fox (Walt Disney Studios Motion P...     2009      246000000   \n",
                            "1                Walt Disney Studios Motion Pictures     2019      400000000   \n",
                            "\n",
                            "   taquilla_eeuu_q  taquilla_out_eeuu_q  \n",
                            "0        785221649           2138484377  \n",
                            "1        858373000           1941066100  "
                        ]
                    },
                    "execution_count": 3,
                    "metadata": {},
                    "output_type": "execute_result"
                }
            ],
            "source": [
                "#Limpiamos datos de columnas con símbolos y espacios\n",
                "\n",
                "df['presupuesto_n'] = df['presupuesto'].str.split(pat='-', expand=True)[0]\n",
                "df['presupuesto_n'] = df['presupuesto_n'].replace('\\s', '', regex=True)\n",
                "df['presupuesto_n'] = df['presupuesto_n'].astype(int)\n",
                "\n",
                "df['recaudacion_mundial'] = df['recaudacion_mundial'].replace('\\s', '', regex=True)\n",
                "df['recaudacion_mundial'] = df['recaudacion_mundial'].astype(int)\n",
                "\n",
                "\n",
                "df['taquilla_eeuu_q'] = df['taquilla_eeuu'].str.split(pat='(', expand=True)[0]\n",
                "df['taquilla_eeuu_q'] = df['taquilla_eeuu_q'].replace('\\s', '', regex=True)\n",
                "df['taquilla_eeuu_q'] = df['taquilla_eeuu_q'].astype(int)\n",
                "\n",
                "df['taquilla_out_eeuu_q'] = df['taquilla_out_eeuu'].str.replace(r'\\(.*', '', regex=True)\n",
                "df['taquilla_out_eeuu_q'] = df['taquilla_out_eeuu_q'].replace('\\s', '', regex=True)\n",
                "df['taquilla_out_eeuu_q'] = df['taquilla_out_eeuu_q'].astype(int)\n",
                "\n",
                "df.head(2)"
            ]
        },
        {
            "cell_type": "code",
            "execution_count": 4,
            "metadata": {},
            "outputs": [
                {
                    "data": {
                        "text/html": [
                            "<div>\n",
                            "<style scoped>\n",
                            "    .dataframe tbody tr th:only-of-type {\n",
                            "        vertical-align: middle;\n",
                            "    }\n",
                            "\n",
                            "    .dataframe tbody tr th {\n",
                            "        vertical-align: top;\n",
                            "    }\n",
                            "\n",
                            "    .dataframe thead th {\n",
                            "        text-align: right;\n",
                            "    }\n",
                            "</style>\n",
                            "<table border=\"1\" class=\"dataframe\">\n",
                            "  <thead>\n",
                            "    <tr style=\"text-align: right;\">\n",
                            "      <th></th>\n",
                            "      <th>orden</th>\n",
                            "      <th>nombre_peliculas</th>\n",
                            "      <th>recaudacion_mundial</th>\n",
                            "      <th>distribuidor</th>\n",
                            "      <th>estreno</th>\n",
                            "      <th>presupuesto_n</th>\n",
                            "      <th>taquilla_eeuu_q</th>\n",
                            "      <th>taquilla_out_eeuu_q</th>\n",
                            "    </tr>\n",
                            "  </thead>\n",
                            "  <tbody>\n",
                            "    <tr>\n",
                            "      <th>0</th>\n",
                            "      <td>1</td>\n",
                            "      <td>Avatar</td>\n",
                            "      <td>2923706026</td>\n",
                            "      <td>20th Century Fox (Walt Disney Studios Motion P...</td>\n",
                            "      <td>2009</td>\n",
                            "      <td>246000000</td>\n",
                            "      <td>785221649</td>\n",
                            "      <td>2138484377</td>\n",
                            "    </tr>\n",
                            "    <tr>\n",
                            "      <th>1</th>\n",
                            "      <td>2</td>\n",
                            "      <td>Avengers: Endgame</td>\n",
                            "      <td>2799439100</td>\n",
                            "      <td>Walt Disney Studios Motion Pictures</td>\n",
                            "      <td>2019</td>\n",
                            "      <td>400000000</td>\n",
                            "      <td>858373000</td>\n",
                            "      <td>1941066100</td>\n",
                            "    </tr>\n",
                            "  </tbody>\n",
                            "</table>\n",
                            "</div>"
                        ],
                        "text/plain": [
                            "   orden   nombre_peliculas  recaudacion_mundial  \\\n",
                            "0      1             Avatar           2923706026   \n",
                            "1      2  Avengers: Endgame           2799439100   \n",
                            "\n",
                            "                                        distribuidor  estreno  presupuesto_n  \\\n",
                            "0  20th Century Fox (Walt Disney Studios Motion P...     2009      246000000   \n",
                            "1                Walt Disney Studios Motion Pictures     2019      400000000   \n",
                            "\n",
                            "   taquilla_eeuu_q  taquilla_out_eeuu_q  \n",
                            "0        785221649           2138484377  \n",
                            "1        858373000           1941066100  "
                        ]
                    },
                    "execution_count": 4,
                    "metadata": {},
                    "output_type": "execute_result"
                }
            ],
            "source": [
                "#Eliminaré las columnas cuyos datos no son de mi interés por su formato:\n",
                "df = df.drop(columns=['taquilla_eeuu', 'taquilla_out_eeuu', 'presupuesto'])\n",
                "df.head(2)"
            ]
        },
        {
            "cell_type": "code",
            "execution_count": 5,
            "metadata": {},
            "outputs": [],
            "source": [
                "#Establecemos conexión con SQL: \n",
                "conexion = sqlite3.connect('peliculas_taquilleras.db')\n",
                "cursor = conexion.cursor()\n",
                "\n",
                "#Enviamos a la base de datos:\n",
                "df.to_sql('peliculas', conexion, if_exists='replace', index = False)\n",
                "conexion. commit()"
            ]
        },
        {
            "cell_type": "code",
            "execution_count": 6,
            "metadata": {},
            "outputs": [
                {
                    "name": "stdout",
                    "output_type": "stream",
                    "text": [
                        "('Avatar',)\n",
                        "('Avengers: Endgame',)\n",
                        "('Avatar: The Way of Water',)\n",
                        "('Titanic',)\n",
                        "('Ne Zha 2',)\n",
                        "('Star Wars: Episodio VII - El despertar de la Fuerza',)\n",
                        "('Avengers: Infinity War',)\n",
                        "('Spider-Man: No Way Home',)\n",
                        "('Inside Out 2',)\n",
                        "('Jurassic World',)\n",
                        "('El rey león',)\n",
                        "('The Avengers',)\n",
                        "('Furious 7',)\n",
                        "('Top Gun: Maverick',)\n",
                        "('Frozen II',)\n",
                        "('Barbie',)\n",
                        "('Avengers: Age of Ultron',)\n",
                        "('Super Mario Bros.: la película',)\n",
                        "('Black Panther',)\n",
                        "('Harry Potter y las reliquias de la Muerte: parte 2',)\n",
                        "('Deadpool & Wolverine',)\n",
                        "('Star Wars: Episodio VIII - Los últimos Jedi',)\n",
                        "('Jurassic World: el reino caído',)\n",
                        "('Frozen',)\n",
                        "('La bella y la bestia',)\n",
                        "('Los Increíbles 2',)\n",
                        "('The Fate of the Furious',)\n",
                        "('Iron Man 3',)\n",
                        "('Minions',)\n",
                        "('El Señor de los Anillos: el retorno del Rey',)\n",
                        "('Capitán América: Civil War',)\n",
                        "('Aquaman',)\n",
                        "('Skyfall',)\n",
                        "('Spider-Man: lejos de casa',)\n",
                        "('Capitana Marvel',)\n",
                        "('Transformers: el lado oscuro de la luna',)\n",
                        "('The Dark Knight Rises',)\n",
                        "('Parque Jurásico',)\n",
                        "('Transformers: la era de la extinción',)\n",
                        "('Star Wars: Episodio IX - El ascenso de Skywalker',)\n",
                        "('Joker',)\n",
                        "('Toy Story 4',)\n",
                        "('Toy Story 3',)\n",
                        "(\"Pirates of the Caribbean: Dead Man's Chest\",)\n",
                        "('Moana 2',)\n",
                        "('Rogue One: una historia de Star Wars',)\n",
                        "('Aladdín',)\n",
                        "('Pirates of the Caribbean: On Stranger Tides',)\n",
                        "('Despicable Me 3',)\n",
                        "('Buscando a Dory',)\n",
                        "('Star Wars: Episodio I - La amenaza fantasma',)\n",
                        "('Zootopia',)\n",
                        "('Alicia en el país de las maravillas',)\n",
                        "('Harry Potter y la piedra filosofal',)\n",
                        "('El hobbit: un viaje inesperado',)\n",
                        "('The Dark Knight',)\n",
                        "('Jurassic World: Dominion',)\n",
                        "('Jumanji: Welcome to the Jungle',)\n",
                        "('El rey león',)\n",
                        "('Oppenheimer',)\n",
                        "('Harry Potter y las reliquias de la Muerte: parte 1',)\n",
                        "('Despicable Me 2',)\n",
                        "('Despicable Me 4',)\n",
                        "('El libro de la selva',)\n",
                        "('El hobbit: la batalla de los Cinco Ejércitos',)\n",
                        "('Piratas del Caribe: en el fin del mundo',)\n",
                        "('El hobbit: la desolación de Smaug',)\n",
                        "('Doctor Strange en el multiverso de la locura',)\n",
                        "('El Señor de los Anillos: las dos torres',)\n",
                        "('Buscando a Nemo',)\n",
                        "('Minions: The Rise of Gru',)\n",
                        "('Harry Potter y la Orden del Fénix',)\n",
                        "('Harry Potter y el misterio del príncipe',)\n",
                        "('Shrek 2',)\n",
                        "('Harry Potter y la cámara secreta',)\n",
                        "('Bohemian Rhapsody',)\n",
                        "('La Batalla del Lago de Changjin',)\n",
                        "('Harry Potter y el cáliz de fuego',)\n",
                        "('Spider-Man 3',)\n",
                        "('Ice Age: Dawn of the Dinosaurs',)\n",
                        "('El Señor de los Anillos: la Comunidad del Anillo',)\n",
                        "('Spectre',)\n",
                        "('Spider-Man: Homecoming',)\n",
                        "('Ice Age: Continental Drift',)\n",
                        "('The Secret Life of Pets',)\n",
                        "('Una película de Minecraft',)\n",
                        "('Batman v Superman: Dawn of Justice',)\n",
                        "('El Guerrero Lobo 2',)\n",
                        "('Star Wars: Episodio III - La venganza de los Sith',)\n",
                        "('Los juegos del hambre: en llamas',)\n",
                        "('Guardianes de la Galaxia vol. 2',)\n",
                        "('Black Panther: Wakanda Forever',)\n",
                        "('Inside Out',)\n",
                        "('Venom',)\n",
                        "('Thor: Ragnarok',)\n",
                        "('The Twilight Saga: Breaking Dawn - Part 2',)\n",
                        "('Guardianes de la Galaxia vol. 3',)\n",
                        "('Inception',)\n",
                        "('Transformers: la venganza de los caídos',)\n",
                        "('Spider-Man',)\n"
                    ]
                }
            ],
            "source": [
                "# Al tener la base de datos en SQL podemos trabajar con ella para obtener datos y saber que funciona correctamente:\n",
                "#Consulta 1:\n",
                "cursor.execute('''\n",
                "    SELECT \"nombre_peliculas\" FROM peliculas\n",
                "''')\n",
                "resultados = cursor.fetchall()\n",
                "for fila in resultados:\n",
                "    print(fila)"
            ]
        },
        {
            "cell_type": "code",
            "execution_count": 7,
            "metadata": {},
            "outputs": [
                {
                    "name": "stdout",
                    "output_type": "stream",
                    "text": [
                        "('Avengers: Endgame',)\n",
                        "('Avatar: The Way of Water',)\n",
                        "('Star Wars: Episodio VII - El despertar de la Fuerza',)\n",
                        "('Avengers: Infinity War',)\n",
                        "('Star Wars: Episodio VIII - Los últimos Jedi',)\n",
                        "('El hobbit: un viaje inesperado',)\n",
                        "('Piratas del Caribe: en el fin del mundo',)\n"
                    ]
                }
            ],
            "source": [
                "# Consulta 2\n",
                "cursor.execute('''\n",
                "    SELECT \"nombre_peliculas\" FROM peliculas WHERE \"presupuesto_n\" > 300000000\n",
                "''')\n",
                "resultados = cursor.fetchall()\n",
                "for fila in resultados:\n",
                "    print(fila)"
            ]
        },
        {
            "cell_type": "code",
            "execution_count": 8,
            "metadata": {},
            "outputs": [
                {
                    "name": "stdout",
                    "output_type": "stream",
                    "text": [
                        "('Titanic', 1997)\n",
                        "('Parque Jurásico', 1993)\n",
                        "('Star Wars: Episodio I - La amenaza fantasma', 1999)\n",
                        "('El rey león', 1994)\n"
                    ]
                }
            ],
            "source": [
                "# Consulta 3\n",
                "cursor.execute('''\n",
                "    SELECT \"nombre_peliculas\",\"estreno\" FROM peliculas WHERE \"estreno\" < 2000\n",
                "''')\n",
                "resultados = cursor.fetchall()\n",
                "for fila in resultados:\n",
                "    print(fila)\n",
                "conexion.close()"
            ]
        },
        {
            "cell_type": "code",
            "execution_count": 9,
            "metadata": {},
            "outputs": [
                {
                    "data": {
                        "image/png": "[encoded data removed]",
                        "text/plain": [
                            "<Figure size 640x480 with 1 Axes>"
                        ]
                    },
                    "metadata": {},
                    "output_type": "display_data"
                }
            ],
            "source": [
                "# Graficamos Años de Estrenos vs Presupuestos de las películas:\n",
                "x = df[\"estreno\"]\n",
                "y = df[\"presupuesto_n\"]\n",
                "\n",
                "plt.yscale('log')\n",
                "plt.bar(x, y)\n",
                "plt.title('Año de estrenos vs Presupuesto')\n",
                "plt.ylabel('Presupuesto')\n",
                "plt.xlabel('Año de estreno')\n",
                "plt.show()"
            ]
        },
        {
            "cell_type": "markdown",
            "metadata": {},
            "source": [
                "Aparentemente, el coste de las películas ha incrementado con los años. Entendería que los efectos especiales requieren de más insumos, más personal y mucha creatividad."
            ]
        },
        {
            "cell_type": "code",
            "execution_count": 10,
            "metadata": {},
            "outputs": [
                {
                    "data": {
                        "image/png": "[encoded data removed]",
                        "text/plain": [
                            "<Figure size 1200x600 with 2 Axes>"
                        ]
                    },
                    "metadata": {},
                    "output_type": "display_data"
                }
            ],
            "source": [
                "#Graficamos cuánto fue la recaudación mundial de tres peliculas aleatorias\n",
                "fig, axes = plt.subplots(1, 2, figsize=(12, 6))\n",
                "\n",
                "peliculas_comparar = ['Venom', 'Inside Out', 'Aladdín']\n",
                "df_peliculas_comparar = df[df['nombre_peliculas'].isin(peliculas_comparar)]\n",
                "\n",
                "x = df_peliculas_comparar[\"nombre_peliculas\"]\n",
                "y = df_peliculas_comparar[\"recaudacion_mundial\"]\n",
                "axes[0].set_title('Película con mayor recaudación')\n",
                "axes[0].bar(x, y, color=\"darkblue\")\n",
                "axes[0].set_title('Película con mayor recaudación')\n",
                "axes[0].set_xlabel('Películas')\n",
                "axes[0].set_ylabel('Recaudación Mundial')\n",
                "\n",
                "#Compararé las tres peliculas de acuerdo a su presupuesto y recaudación mundial\n",
                "graficar_presupuesto_recaudacion = ['recaudacion_mundial', 'presupuesto_n']\n",
                "df_peliculas_comparar[graficar_presupuesto_recaudacion].plot(kind='bar', ax=axes[1], color=['cyan', 'darkblue'])\n",
                "axes[1].set_title('Presupuesto y Recaudación')\n",
                "axes[1].set_xlabel('Películas')\n",
                "axes[1].set_ylabel('Valores')\n",
                "plt.tight_layout()"
            ]
        },
        {
            "cell_type": "markdown",
            "metadata": {},
            "source": [
                "Los clásicos no dejan de ser buenas películas. A pesar de ser 'caricaturezca' como Inside Out, obtuvo mucha más recaudación mundial Aladdin, con casi el mismo presupuesto y menos efectos especiales."
            ]
        },
        {
            "cell_type": "code",
            "execution_count": 11,
            "metadata": {},
            "outputs": [
                {
                    "data": {
                        "image/png": "[encoded data removed]",
                        "text/plain": [
                            "<Figure size 640x480 with 1 Axes>"
                        ]
                    },
                    "metadata": {},
                    "output_type": "display_data"
                }
            ],
            "source": [
                "#Graficamos si existe relación del presupuesto de las películas con la recaudación:\n",
                "x = df['presupuesto_n']\n",
                "y = df['recaudacion_mundial']\n",
                "plt.scatter(x, y, color ='magenta')\n",
                "plt.title('Presupuesto vs Recaudación')\n",
                "plt.xlabel('Presupuesto')\n",
                "plt.ylabel('Recaudación Mundial')\n",
                "plt.show()"
            ]
        },
        {
            "cell_type": "markdown",
            "metadata": {},
            "source": [
                "A simple vista, diría que si existe algún tipo de relación, aunque no es tan clara, asciende con menos pendiente el hecho de haber hecho una buena inversión en obtener una recaudación mayor. En pocas palabras, diría que en algunos casos cuanto mayor es el presupuesto, mayor podría ser la recaudación. "
            ]
        }
    ],
    "metadata": {
        "kernelspec": {
            "display_name": "Python 3",
            "language": "python",
            "name": "python3"
        },
        "language_info": {
            "codemirror_mode": {
                "name": "ipython",
                "version": 3
            },
            "file_extension": ".py",
            "mimetype": "text/x-python",
            "name": "python",
            "nbconvert_exporter": "python",
            "pygments_lexer": "ipython3",
            "version": "3.11.4"
        },
        "orig_nbformat": 4
    },
    "nbformat": 4,
    "nbformat_minor": 2
}
